{
 "cells": [
  {
   "cell_type": "code",
   "execution_count": 15,
   "id": "dbde718f",
   "metadata": {},
   "outputs": [],
   "source": [
    "import os\n",
    "from IPython.display import Image\n",
    "\n",
    "import pandas as pd\n",
    "import numpy as np\n",
    "import itertools\n",
    "import timeit\n",
    "import time\n",
    "\n",
    "%matplotlib inline\n",
    "import matplotlib.pyplot as plt\n",
    "plt.style.use('seaborn-whitegrid')\n",
    "\n",
    "from sklearn import tree\n",
    "from sklearn.metrics import log_loss, roc_auc_score, accuracy_score, f1_score, precision_score, recall_score, confusion_matrix, ConfusionMatrixDisplay\n",
    "from sklearn.preprocessing import LabelEncoder\n",
    "from sklearn.model_selection import train_test_split, cross_val_score, cross_validate, GridSearchCV\n",
    "from sklearn.tree import DecisionTreeClassifier\n",
    "from sklearn import metrics\n",
    "from sklearn.preprocessing import StandardScaler, LabelEncoder\n",
    "\n",
    "# Display all columns\n",
    "pd.set_option('display.max_columns', None)\n",
    "from sklearn.experimental import enable_halving_search_cv  # noqa\n",
    "from sklearn.model_selection import HalvingGridSearchCV\n",
    "\n",
    "from collections import Counter\n",
    "from numpy import where\n",
    "from sklearn.model_selection import cross_val_score\n",
    "from sklearn.model_selection import RepeatedStratifiedKFold\n",
    "from sklearn.tree import DecisionTreeClassifier\n",
    "from imblearn.pipeline import Pipeline\n",
    "from imblearn.over_sampling import SMOTE\n",
    "from imblearn.under_sampling import RandomUnderSampler\n",
    "from numpy import mean\n",
    "from sklearn.decomposition import FastICA, PCA\n",
    "from scipy.stats import kurtosis \n",
    "from sklearn import random_projection\n",
    "from sklearn.decomposition import TruncatedSVD\n",
    "\n",
    "from sklearn.neural_network import MLPClassifier\n",
    "from sklearn.cluster import KMeans\n",
    "from sklearn.mixture import GaussianMixture\n",
    "\n",
    "from sklearn.metrics import v_measure_score, adjusted_mutual_info_score, homogeneity_score\n"
   ]
  },
  {
   "cell_type": "code",
   "execution_count": null,
   "id": "e3b415ed",
   "metadata": {},
   "outputs": [],
   "source": []
  },
  {
   "cell_type": "code",
   "execution_count": null,
   "id": "4e1329fc",
   "metadata": {},
   "outputs": [],
   "source": []
  },
  {
   "cell_type": "code",
   "execution_count": null,
   "id": "5b37a943",
   "metadata": {},
   "outputs": [],
   "source": []
  },
  {
   "cell_type": "code",
   "execution_count": 2,
   "id": "f117fdbc",
   "metadata": {},
   "outputs": [
    {
     "name": "stdout",
     "output_type": "stream",
     "text": [
      "Data has 100000 rows and 299 columns.\n"
     ]
    }
   ],
   "source": [
    "df_insurance = pd.read_csv('data/insurance/train.csv', nrows=100000)\n",
    "\n",
    "assert df_insurance.shape[0] > 0\n",
    "assert df_insurance.shape[1] > 0\n",
    "\n",
    "print(f\"Data has {df_insurance.shape[0]} rows and {df_insurance.shape[1]} columns.\")\n",
    "\n",
    "def encode_labels(df):\n",
    "    for column in df.columns:\n",
    "        if df[column].dtype=='object':\n",
    "            label = LabelEncoder()\n",
    "            label.fit(list(df[column].values))\n",
    "            df[column] = label.transform(list(df[column].values))\n",
    "    return df\n",
    "\n",
    "df_insurance = df_insurance.drop(['QuoteNumber'], axis=1)\n",
    "\n",
    "# Now convert the date to day, month and week and drop the date\n",
    "df_insurance['Date'] = pd.to_datetime(pd.Series(df_insurance['Original_Quote_Date']))\n",
    "df_insurance = df_insurance.drop('Original_Quote_Date', axis=1)\n",
    "df_insurance['Year'] = df_insurance['Date'].apply(lambda x: int(str(x)[:4]))\n",
    "df_insurance['Month'] = df_insurance['Date'].apply(lambda x: int(str(x)[5:7]))\n",
    "df_insurance['weekday'] = df_insurance['Date'].dt.dayofweek\n",
    "df_insurance = df_insurance.drop('Date', axis=1)\n",
    "df_insurance = encode_labels(df_insurance)\n",
    "df_insurance = df_insurance.fillna(-1)\n",
    "\n",
    "insurance_X = df_insurance.loc[:, df_insurance.columns != 'QuoteConversion_Flag']\n",
    "insurance_Y = df_insurance['QuoteConversion_Flag']"
   ]
  },
  {
   "cell_type": "code",
   "execution_count": 3,
   "id": "25a3bb7c",
   "metadata": {},
   "outputs": [],
   "source": [
    "from imblearn.over_sampling import SMOTE\n",
    "from imblearn.pipeline import Pipeline \n",
    "\n",
    "\n",
    "over = SMOTE(sampling_strategy=0.3)\n",
    "under = RandomUnderSampler(sampling_strategy=0.5)\n",
    "steps = [('over', over), ('under', under)]\n",
    "\n",
    "insurance_X = df_insurance.loc[:, df_insurance.columns != 'QuoteConversion_Flag']\n",
    "insurance_Y = df_insurance['QuoteConversion_Flag']\n",
    "insurance_X_resample, insurance_Y_resample = Pipeline(steps=steps).fit_resample(insurance_X, insurance_Y)\n",
    "\n",
    "insurance_X_resample_scaled = StandardScaler().fit_transform(insurance_X_resample) \n",
    "\n",
    "insurance_X_train, insurance_X_test, insurance_y_train, insurance_y_test = train_test_split(np.array(insurance_X_resample),np.array(insurance_Y_resample), test_size=0.15)\n"
   ]
  },
  {
   "cell_type": "code",
   "execution_count": 12,
   "id": "f60ddf61",
   "metadata": {},
   "outputs": [
    {
     "name": "stdout",
     "output_type": "stream",
     "text": [
      "Train time: 0.07094192504882812\n",
      "Query time: 0.0024411678314208984\n",
      "Cross validation score: 0.6190145641368027\n",
      "Train time: 4.496754884719849\n",
      "Query time: 0.003148794174194336\n",
      "Test ROC AUC: 0.5\n"
     ]
    }
   ],
   "source": [
    "# KMeans = 2\n",
    "pca = PCA(n_components= 2).fit(insurance_X_resample_scaled)\n",
    "pca_insurance_X_resample_scaled = pca.transform(insurance_X_resample_scaled)\n",
    "start = time.time()\n",
    "kmeans=KMeans(2).fit(pca_insurance_X_resample_scaled)\n",
    "train_time = time.time() - start\n",
    "print(\"Train time: \" + str(train_time))\n",
    "\n",
    "start = time.time()\n",
    "kmeans.predict(pca_insurance_X_resample_scaled)\n",
    "query_time = time.time() - start\n",
    "print(\"Query time: \" + str(query_time))\n",
    "y_pred = kmeans.predict(pca_insurance_X_resample_scaled)\n",
    "\n",
    "result = pd.concat([pd.DataFrame(pca_insurance_X_resample_scaled), pd.DataFrame(y_pred)], axis=1, sort=False)\n",
    "result.columns = [0, 1, 2]\n",
    "\n",
    "clf = MLPClassifier(max_iter= 5000, hidden_layer_sizes=(5,2), activation='logistic', verbose=False, learning_rate_init=0.01)\n",
    "X_train, X_test, y_train, y_test = train_test_split(result, insurance_Y_resample, test_size=0.2)\n",
    "\n",
    "cv_score = cross_val_score(clf, X_train, y_train, cv=20, scoring=\"roc_auc\").mean()\n",
    "print(\"Cross validation score: \" + str(cv_score))\n",
    "\n",
    "start = time.time()\n",
    "clf.fit(X_train, y_train)\n",
    "train_time = time.time() - start\n",
    "print(\"Train time: \" + str(train_time))\n",
    "\n",
    "start = time.time()\n",
    "y_pred = clf.predict(X_test)\n",
    "query_time = time.time() - start\n",
    "print(\"Query time: \" + str(query_time))\n",
    "\n",
    "score = roc_auc_score(y_test, y_pred)\n",
    "print(\"Test ROC AUC: \" + str(score))\n"
   ]
  },
  {
   "cell_type": "code",
   "execution_count": null,
   "id": "f98f2a64",
   "metadata": {},
   "outputs": [],
   "source": []
  },
  {
   "cell_type": "code",
   "execution_count": 13,
   "id": "2115ff14",
   "metadata": {},
   "outputs": [
    {
     "name": "stdout",
     "output_type": "stream",
     "text": [
      "Train time: 0.09236001968383789\n",
      "Query time: 0.008335113525390625\n",
      "Cross validation score: 0.6182566988967348\n",
      "Train time: 5.659135341644287\n",
      "Query time: 0.0028429031372070312\n",
      "Test ROC AUC: 0.5\n"
     ]
    }
   ],
   "source": [
    "pca = PCA(n_components= 2).fit(insurance_X_resample_scaled)\n",
    "pca_insurance_X_resample_scaled = pca.transform(insurance_X_resample_scaled)\n",
    "start = time.time()\n",
    "gmm=GaussianMixture(2).fit(pca_insurance_X_resample_scaled)\n",
    "train_time = time.time() - start\n",
    "print(\"Train time: \" + str(train_time))\n",
    "\n",
    "start = time.time()\n",
    "gmm.predict(pca_insurance_X_resample_scaled)\n",
    "query_time = time.time() - start\n",
    "print(\"Query time: \" + str(query_time))\n",
    "y_pred = gmm.predict(pca_insurance_X_resample_scaled)\n",
    "\n",
    "result = pd.concat([pd.DataFrame(pca_insurance_X_resample_scaled), pd.DataFrame(y_pred)], axis=1, sort=False)\n",
    "result.columns = [0, 1, 2]\n",
    "\n",
    "clf = MLPClassifier(max_iter= 5000, hidden_layer_sizes=(5,2), activation='logistic', verbose=False, learning_rate_init=0.001)\n",
    "X_train, X_test, y_train, y_test = train_test_split(result, insurance_Y_resample, test_size=0.2)\n",
    "\n",
    "cv_score = cross_val_score(clf, X_train, y_train, cv=20, scoring=\"roc_auc\").mean()\n",
    "print(\"Cross validation score: \" + str(cv_score))\n",
    "\n",
    "start = time.time()\n",
    "clf.fit(X_train, y_train)\n",
    "train_time = time.time() - start\n",
    "print(\"Train time: \" + str(train_time))\n",
    "\n",
    "start = time.time()\n",
    "y_pred = clf.predict(X_test)\n",
    "query_time = time.time() - start\n",
    "print(\"Query time: \" + str(query_time))\n",
    "\n",
    "score = roc_auc_score(y_test, y_pred)\n",
    "print(\"Test ROC AUC: \" + str(score))\n"
   ]
  },
  {
   "cell_type": "code",
   "execution_count": null,
   "id": "45b141d2",
   "metadata": {},
   "outputs": [],
   "source": []
  },
  {
   "cell_type": "code",
   "execution_count": 16,
   "id": "7f3179e1",
   "metadata": {},
   "outputs": [
    {
     "name": "stdout",
     "output_type": "stream",
     "text": [
      "0.002377346718288729\n",
      "0.0023668088106171548\n",
      "0.002420757622846224\n"
     ]
    }
   ],
   "source": [
    "# KMeans = 2\n",
    "pca = PCA(n_components= 2).fit(insurance_X_resample_scaled)\n",
    "pca_insurance_X_resample_scaled = pca.transform(insurance_X_resample_scaled)\n",
    "start = time.time()\n",
    "kmeans=KMeans(2).fit(pca_insurance_X_resample_scaled)\n",
    "labels = kmeans.predict(pca_insurance_X_resample_scaled)\n",
    "\n",
    "print(v_measure_score(insurance_Y_resample, labels))\n",
    "print(adjusted_mutual_info_score(insurance_Y_resample, labels))\n",
    "print(homogeneity_score(insurance_Y_resample, labels))\n"
   ]
  },
  {
   "cell_type": "code",
   "execution_count": null,
   "id": "5f5c8914",
   "metadata": {},
   "outputs": [],
   "source": []
  },
  {
   "cell_type": "code",
   "execution_count": 17,
   "id": "53e68e04",
   "metadata": {},
   "outputs": [
    {
     "name": "stdout",
     "output_type": "stream",
     "text": [
      "0.0021340408920460375\n",
      "0.002123487903120226\n",
      "0.0021704330106454756\n"
     ]
    }
   ],
   "source": [
    "# Gaussian = 2\n",
    "pca = PCA(n_components= 2).fit(insurance_X_resample_scaled)\n",
    "pca_insurance_X_resample_scaled = pca.transform(insurance_X_resample_scaled)\n",
    "start = time.time()\n",
    "gmm=GaussianMixture(2).fit(pca_insurance_X_resample_scaled)\n",
    "labels = gmm.predict(pca_insurance_X_resample_scaled)\n",
    "\n",
    "print(v_measure_score(insurance_Y_resample, labels))\n",
    "print(adjusted_mutual_info_score(insurance_Y_resample, labels))\n",
    "print(homogeneity_score(insurance_Y_resample, labels))\n"
   ]
  },
  {
   "cell_type": "code",
   "execution_count": null,
   "id": "4717837e",
   "metadata": {},
   "outputs": [],
   "source": []
  },
  {
   "cell_type": "code",
   "execution_count": null,
   "id": "ad69c40c",
   "metadata": {},
   "outputs": [],
   "source": []
  }
 ],
 "metadata": {
  "kernelspec": {
   "display_name": "Python 3 (ipykernel)",
   "language": "python",
   "name": "python3"
  },
  "language_info": {
   "codemirror_mode": {
    "name": "ipython",
    "version": 3
   },
   "file_extension": ".py",
   "mimetype": "text/x-python",
   "name": "python",
   "nbconvert_exporter": "python",
   "pygments_lexer": "ipython3",
   "version": "3.9.7"
  }
 },
 "nbformat": 4,
 "nbformat_minor": 5
}
